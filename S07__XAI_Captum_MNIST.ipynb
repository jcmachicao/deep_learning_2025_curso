{
  "nbformat": 4,
  "nbformat_minor": 0,
  "metadata": {
    "colab": {
      "provenance": [],
      "authorship_tag": "ABX9TyNzsxeyOssiwDpUlac7GAol",
      "include_colab_link": true
    },
    "kernelspec": {
      "name": "python3",
      "display_name": "Python 3"
    },
    "language_info": {
      "name": "python"
    }
  },
  "cells": [
    {
      "cell_type": "markdown",
      "metadata": {
        "id": "view-in-github",
        "colab_type": "text"
      },
      "source": [
        "<a href=\"https://colab.research.google.com/github/jcmachicao/deep_learning_2025_curso/blob/main/S07__XAI_Captum_MNIST.ipynb\" target=\"_parent\"><img src=\"https://colab.research.google.com/assets/colab-badge.svg\" alt=\"Open In Colab\"/></a>"
      ]
    },
    {
      "cell_type": "markdown",
      "source": [
        "# EXPLICABILIDAD CON CAPTUM (MNIST)\n",
        "-----------------------------------"
      ],
      "metadata": {
        "id": "JBawU81ePYqM"
      }
    },
    {
      "cell_type": "code",
      "source": [
        "!pip install torch torchvision captum matplotlib"
      ],
      "metadata": {
        "id": "-KyOhWznPUju"
      },
      "execution_count": null,
      "outputs": []
    },
    {
      "cell_type": "code",
      "source": [
        "import torch\n",
        "import torch.nn as nn\n",
        "import torch.optim as optim\n",
        "import torchvision\n",
        "import torchvision.transforms as transforms\n",
        "import matplotlib.pyplot as plt\n",
        "import numpy as np\n",
        "from captum.attr import IntegratedGradients, Saliency\n",
        "from captum.attr import visualization as viz"
      ],
      "metadata": {
        "id": "VEmhIG3zPR09"
      },
      "execution_count": 7,
      "outputs": []
    },
    {
      "cell_type": "code",
      "source": [
        "# 1️⃣ Datos\n",
        "transform = transforms.Compose([transforms.ToTensor()])\n",
        "trainset = torchvision.datasets.MNIST(root='./data', train=True, download=True, transform=transform)\n",
        "testset = torchvision.datasets.MNIST(root='./data', train=False, download=True, transform=transform)\n",
        "testloader = torch.utils.data.DataLoader(testset, batch_size=32, shuffle=True)"
      ],
      "metadata": {
        "colab": {
          "base_uri": "https://localhost:8080/"
        },
        "id": "hNCryTcSPk_j",
        "outputId": "8ad99858-a674-4141-bcf9-1d20f619f82e"
      },
      "execution_count": 2,
      "outputs": [
        {
          "output_type": "stream",
          "name": "stderr",
          "text": [
            "100%|██████████| 9.91M/9.91M [00:00<00:00, 20.4MB/s]\n",
            "100%|██████████| 28.9k/28.9k [00:00<00:00, 524kB/s]\n",
            "100%|██████████| 1.65M/1.65M [00:00<00:00, 4.65MB/s]\n",
            "100%|██████████| 4.54k/4.54k [00:00<00:00, 9.25MB/s]\n"
          ]
        }
      ]
    },
    {
      "cell_type": "code",
      "source": [
        "# 2️⃣ Modelo simple\n",
        "class Net(nn.Module):\n",
        "    def __init__(self):\n",
        "        super(Net, self).__init__()\n",
        "        self.fc1 = nn.Linear(28*28, 128)\n",
        "        self.fc2 = nn.Linear(128, 64)\n",
        "        self.fc3 = nn.Linear(64, 10)\n",
        "        self.relu = nn.ReLU()\n",
        "\n",
        "    def forward(self, x):\n",
        "        x = x.view(-1, 28*28)\n",
        "        x = self.relu(self.fc1(x))\n",
        "        x = self.relu(self.fc2(x))\n",
        "        x = self.fc3(x)\n",
        "        return x\n",
        "\n",
        "model = Net()\n",
        "criterion = nn.CrossEntropyLoss()\n",
        "optimizer = optim.Adam(model.parameters(), lr=0.001)"
      ],
      "metadata": {
        "id": "aNPHop1rPph8"
      },
      "execution_count": 3,
      "outputs": []
    },
    {
      "cell_type": "code",
      "source": [
        "# Entrenamiento rápido (solo para demo)\n",
        "for epoch in range(1):\n",
        "    for images, labels in torch.utils.data.DataLoader(trainset, batch_size=256, shuffle=True):\n",
        "        optimizer.zero_grad()\n",
        "        outputs = model(images)\n",
        "        loss = criterion(outputs, labels)\n",
        "        loss.backward()\n",
        "        optimizer.step()"
      ],
      "metadata": {
        "id": "7ZlYrPMDPted"
      },
      "execution_count": 10,
      "outputs": []
    },
    {
      "cell_type": "code",
      "source": [
        "# 3️⃣ Tomamos una muestra del test set\n",
        "images, labels = next(iter(testloader))\n",
        "image = images[10].unsqueeze(0)\n",
        "label = labels[10].item()\n",
        "\n",
        "# 4️⃣ Predicción del modelo\n",
        "output = model(image)\n",
        "pred_label = output.argmax(dim=1).item()\n",
        "\n",
        "print(f\"Etiqueta real: {label} | Predicha: {pred_label}\")"
      ],
      "metadata": {
        "colab": {
          "base_uri": "https://localhost:8080/"
        },
        "id": "gYLXoGY4R6-w",
        "outputId": "1709b145-aaab-45ce-91aa-e24da26c445c"
      },
      "execution_count": 11,
      "outputs": [
        {
          "output_type": "stream",
          "name": "stdout",
          "text": [
            "Etiqueta real: 6 | Predicha: 6\n"
          ]
        }
      ]
    },
    {
      "cell_type": "code",
      "execution_count": 12,
      "metadata": {
        "colab": {
          "base_uri": "https://localhost:8080/",
          "height": 580
        },
        "id": "wPnERXMkMNT7",
        "outputId": "f9b78f45-1aa9-45ea-f9e3-932f4a43b6b5"
      },
      "outputs": [
        {
          "output_type": "display_data",
          "data": {
            "text/plain": [
              "<Figure size 600x600 with 2 Axes>"
            ],
            "image/png": "[encoded data removed]"
          },
          "metadata": {}
        },
        {
          "output_type": "execute_result",
          "data": {
            "text/plain": [
              "(<Figure size 600x600 with 2 Axes>,\n",
              " <Axes: title={'center': 'Attributions for class 6'}>)"
            ]
          },
          "metadata": {},
          "execution_count": 12
        }
      ],
      "source": [
        "# 5️⃣ Aplicar Integrated Gradients\n",
        "ig = IntegratedGradients(model)\n",
        "attr, delta = ig.attribute(image, target=pred_label, baselines=image*0, return_convergence_delta=True)\n",
        "\n",
        "# 6️⃣ Visualización\n",
        "attr = attr.squeeze().detach().numpy()\n",
        "orig = image.squeeze().numpy()\n",
        "\n",
        "# Add a channel dimension to the grayscale images for visualization\n",
        "attr = attr[..., np.newaxis]\n",
        "orig = orig[..., np.newaxis]\n",
        "\n",
        "viz.visualize_image_attr(attr, orig,\n",
        "    method=\"heat_map\",\n",
        "    sign=\"absolute_value\",\n",
        "    show_colorbar=True,\n",
        "    title=f\"Attributions for class {pred_label}\")"
      ]
    },
    {
      "cell_type": "code",
      "source": [
        "import numpy as np\n",
        "import matplotlib.pyplot as plt\n",
        "from captum.attr import visualization as viz\n",
        "\n",
        "# Normalizar el mapa de atribuciones para visualización\n",
        "attr_norm = (attr - attr.min()) / (attr.max() - attr.min())\n",
        "\n",
        "# Configurar figuras\n",
        "fig, ax = plt.subplots(1, 3, figsize=(10,4))\n",
        "\n",
        "# 1️⃣ Imagen original\n",
        "ax[0].imshow(orig, cmap='gray')\n",
        "ax[0].set_title(\"Imagen original\")\n",
        "ax[0].axis('off')\n",
        "\n",
        "# 2️⃣ Mapa de calor de atribuciones\n",
        "ax[1].imshow(attr_norm, cmap='hot')\n",
        "ax[1].set_title(\"Mapa de calor (Captum IG)\")\n",
        "ax[1].axis('off')\n",
        "\n",
        "# 3️⃣ Superposición (overlay)\n",
        "ax[2].imshow(orig, cmap='gray')\n",
        "ax[2].imshow(attr_norm, cmap='jet', alpha=0.5)\n",
        "ax[2].set_title(\"Superposición explicativa\")\n",
        "ax[2].axis('off')\n",
        "\n",
        "plt.tight_layout()\n",
        "plt.show()"
      ],
      "metadata": {
        "colab": {
          "base_uri": "https://localhost:8080/",
          "height": 373
        },
        "id": "ui_aeoZYRbO4",
        "outputId": "41b0968f-237a-466d-e380-c243b9927d19"
      },
      "execution_count": 13,
      "outputs": [
        {
          "output_type": "display_data",
          "data": {
            "text/plain": [
              "<Figure size 1000x400 with 3 Axes>"
            ],
            "image/png": "[encoded data removed]"
          },
          "metadata": {}
        }
      ]
    }
  ]
}