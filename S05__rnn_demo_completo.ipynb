{
  "nbformat": 4,
  "nbformat_minor": 0,
  "metadata": {
    "colab": {
      "provenance": [],
      "authorship_tag": "ABX9TyPW7E+gcTaKJnObUFOjZqR6",
      "include_colab_link": true
    },
    "kernelspec": {
      "name": "python3",
      "display_name": "Python 3"
    },
    "language_info": {
      "name": "python"
    }
  },
  "cells": [
    {
      "cell_type": "markdown",
      "metadata": {
        "id": "view-in-github",
        "colab_type": "text"
      },
      "source": [
        "<a href=\"https://colab.research.google.com/github/jcmachicao/deep_learning_2025_curso/blob/main/S05__rnn_demo_completo.ipynb\" target=\"_parent\"><img src=\"https://colab.research.google.com/assets/colab-badge.svg\" alt=\"Open In Colab\"/></a>"
      ]
    },
    {
      "cell_type": "code",
      "source": [
        "import torch\n",
        "import torch.nn as nn\n",
        "import torch.optim as optim"
      ],
      "metadata": {
        "id": "UtUEszgyerv1"
      },
      "execution_count": 1,
      "outputs": []
    },
    {
      "cell_type": "code",
      "source": [
        "# ------------------------------\n",
        "# 1. Configuración e hipótesis de dataset\n",
        "# ------------------------------\n",
        "BATCH_SIZE = 32     # oraciones por lote\n",
        "SEQ_LEN = 20        # palabras por oración\n",
        "INPUT_SIZE = 300    # dimensión del embedding de palabra\n",
        "HIDDEN_SIZE = 128   # dimensión del estado oculto\n",
        "\n",
        "# Dataset sintético: entradas aleatorias y etiquetas binarias\n",
        "X_train = torch.rand(BATCH_SIZE, SEQ_LEN, INPUT_SIZE)\n",
        "y_train = torch.randint(0, 2, (BATCH_SIZE, 1)).float()"
      ],
      "metadata": {
        "id": "9HEhyr-_evYF"
      },
      "execution_count": 2,
      "outputs": []
    },
    {
      "cell_type": "code",
      "source": [
        "X_train"
      ],
      "metadata": {
        "colab": {
          "base_uri": "https://localhost:8080/"
        },
        "id": "KDNAKyPnky5r",
        "outputId": "78d51bb7-3d05-41f8-e41b-98ce7e0f88e9"
      },
      "execution_count": 8,
      "outputs": [
        {
          "output_type": "execute_result",
          "data": {
            "text/plain": [
              "tensor([[[0.2444, 0.4696, 0.4917,  ..., 0.5005, 0.1271, 0.1840],\n",
              "         [0.8907, 0.6179, 0.6513,  ..., 0.4863, 0.7914, 0.2613],\n",
              "         [0.8244, 0.5600, 0.8050,  ..., 0.5694, 0.8992, 0.3049],\n",
              "         ...,\n",
              "         [0.8863, 0.4711, 0.9189,  ..., 0.9883, 0.0672, 0.5517],\n",
              "         [0.3041, 0.7957, 0.3291,  ..., 0.3002, 0.4577, 0.5342],\n",
              "         [0.2343, 0.6840, 0.5252,  ..., 0.2029, 0.9880, 0.8061]],\n",
              "\n",
              "        [[0.7918, 0.0627, 0.1028,  ..., 0.9852, 0.2044, 0.1458],\n",
              "         [0.2438, 0.9858, 0.9834,  ..., 0.7445, 0.9789, 0.3926],\n",
              "         [0.1837, 0.8360, 0.2065,  ..., 0.2938, 0.0428, 0.0468],\n",
              "         ...,\n",
              "         [0.4109, 0.0639, 0.4478,  ..., 0.3273, 0.1054, 0.4674],\n",
              "         [0.8653, 0.2872, 0.4504,  ..., 0.1453, 0.4862, 0.7763],\n",
              "         [0.5806, 0.6515, 0.6683,  ..., 0.1594, 0.6664, 0.6364]],\n",
              "\n",
              "        [[0.7259, 0.0468, 0.6096,  ..., 0.2142, 0.1511, 0.4817],\n",
              "         [0.3426, 0.2782, 0.1296,  ..., 0.3837, 0.9668, 0.1577],\n",
              "         [0.6404, 0.4653, 0.1802,  ..., 0.6967, 0.5708, 0.7722],\n",
              "         ...,\n",
              "         [0.3082, 0.9208, 0.9271,  ..., 0.1464, 0.7014, 0.5240],\n",
              "         [0.5176, 0.1738, 0.4588,  ..., 0.6117, 0.4660, 0.2213],\n",
              "         [0.0218, 0.5877, 0.7927,  ..., 0.7441, 0.7761, 0.2420]],\n",
              "\n",
              "        ...,\n",
              "\n",
              "        [[0.6583, 0.6116, 0.5575,  ..., 0.4757, 0.3919, 0.7113],\n",
              "         [0.1842, 0.8457, 0.4702,  ..., 0.1358, 0.0167, 0.6345],\n",
              "         [0.8811, 0.5586, 0.9075,  ..., 0.7030, 0.9818, 0.5361],\n",
              "         ...,\n",
              "         [0.1738, 0.5745, 0.6191,  ..., 0.9442, 0.7862, 0.5269],\n",
              "         [0.3384, 0.5610, 0.3524,  ..., 0.6319, 0.0780, 0.8103],\n",
              "         [0.6507, 0.7196, 0.9187,  ..., 0.8654, 0.1716, 0.4045]],\n",
              "\n",
              "        [[0.4696, 0.0065, 0.5836,  ..., 0.5570, 0.6342, 0.5222],\n",
              "         [0.4794, 0.9382, 0.4097,  ..., 0.6482, 0.6322, 0.1915],\n",
              "         [0.9880, 0.0070, 0.5740,  ..., 0.4029, 0.4476, 0.4783],\n",
              "         ...,\n",
              "         [0.3961, 0.2337, 0.4777,  ..., 0.2554, 0.2774, 0.4466],\n",
              "         [0.8056, 0.8567, 0.2729,  ..., 0.2407, 0.7805, 0.9785],\n",
              "         [0.2498, 0.9160, 0.4185,  ..., 0.1039, 0.0208, 0.3521]],\n",
              "\n",
              "        [[0.6554, 0.2149, 0.4250,  ..., 0.9875, 0.5049, 0.1127],\n",
              "         [0.9723, 0.0475, 0.8295,  ..., 0.0146, 0.6717, 0.7587],\n",
              "         [0.5042, 0.0152, 0.2358,  ..., 0.3125, 0.2016, 0.6298],\n",
              "         ...,\n",
              "         [0.5122, 0.3488, 0.7469,  ..., 0.3314, 0.3590, 0.3292],\n",
              "         [0.6083, 0.8321, 0.0263,  ..., 0.7321, 0.0839, 0.4797],\n",
              "         [0.3584, 0.7663, 0.4140,  ..., 0.5023, 0.7929, 0.8187]]])"
            ]
          },
          "metadata": {},
          "execution_count": 8
        }
      ]
    },
    {
      "cell_type": "code",
      "source": [
        "# ------------------------------\n",
        "# 2. Definir modelo RNN simple\n",
        "# ------------------------------\n",
        "class SimpleRNNClassifier(nn.Module):\n",
        "    def __init__(self, input_size, hidden_size, num_classes=1):\n",
        "        super(SimpleRNNClassifier, self).__init__()\n",
        "        self.rnn = nn.RNN(\n",
        "            input_size=input_size,\n",
        "            hidden_size=hidden_size,\n",
        "            batch_first=True\n",
        "        )\n",
        "        self.fc = nn.Linear(hidden_size, num_classes)\n",
        "        self.sigmoid = nn.Sigmoid()\n",
        "\n",
        "    def forward(self, x):\n",
        "        out, h_n = self.rnn(x)  # out: (batch, seq_len, hidden_size)\n",
        "        last_hidden = h_n[-1]   # (batch, hidden_size)\n",
        "        logits = self.fc(last_hidden)\n",
        "        return self.sigmoid(logits)\n",
        "\n",
        "# Instanciar modelo\n",
        "model = SimpleRNNClassifier(INPUT_SIZE, HIDDEN_SIZE)"
      ],
      "metadata": {
        "id": "nnIH7vYLeztg"
      },
      "execution_count": 3,
      "outputs": []
    },
    {
      "cell_type": "code",
      "source": [
        "# ------------------------------\n",
        "# 3. Entrenamiento básico\n",
        "# ------------------------------\n",
        "criterion = nn.BCELoss()\n",
        "optimizer = optim.Adam(model.parameters(), lr=0.001)\n",
        "\n",
        "EPOCHS = 5\n",
        "for epoch in range(EPOCHS):\n",
        "    optimizer.zero_grad()\n",
        "    outputs = model(X_train)\n",
        "    loss = criterion(outputs, y_train)\n",
        "    loss.backward()\n",
        "    optimizer.step()\n",
        "    print(f\"Epoch [{epoch+1}/{EPOCHS}], Loss: {loss.item():.4f}\")"
      ],
      "metadata": {
        "colab": {
          "base_uri": "https://localhost:8080/"
        },
        "id": "0pvg20KNe2qD",
        "outputId": "0f55b14c-2c9b-49a2-f393-e1d32c94b778"
      },
      "execution_count": 4,
      "outputs": [
        {
          "output_type": "stream",
          "name": "stdout",
          "text": [
            "Epoch [1/5], Loss: 0.6905\n",
            "Epoch [2/5], Loss: 0.6715\n",
            "Epoch [3/5], Loss: 0.6277\n",
            "Epoch [4/5], Loss: 0.6033\n",
            "Epoch [5/5], Loss: 0.5776\n"
          ]
        }
      ]
    },
    {
      "cell_type": "code",
      "execution_count": 5,
      "metadata": {
        "id": "gmBcq-dld_IA",
        "colab": {
          "base_uri": "https://localhost:8080/"
        },
        "outputId": "9838c912-94f7-418c-dcea-cabe4b3d71d8"
      },
      "outputs": [
        {
          "output_type": "execute_result",
          "data": {
            "text/plain": [
              "SimpleRNNClassifier(\n",
              "  (rnn): RNN(300, 128, batch_first=True)\n",
              "  (fc): Linear(in_features=128, out_features=1, bias=True)\n",
              "  (sigmoid): Sigmoid()\n",
              ")"
            ]
          },
          "metadata": {},
          "execution_count": 5
        }
      ],
      "source": [
        "# ------------------------------\n",
        "# 4. Guardar pesos\n",
        "# ------------------------------\n",
        "torch.save(model.state_dict(), \"rnn_weights.pth\")\n",
        "\n",
        "# ------------------------------\n",
        "# 5. Cargar modelo\n",
        "# ------------------------------\n",
        "model_loaded = SimpleRNNClassifier(INPUT_SIZE, HIDDEN_SIZE)\n",
        "model_loaded.load_state_dict(torch.load(\"rnn_weights.pth\"))\n",
        "model_loaded.eval()"
      ]
    },
    {
      "cell_type": "code",
      "source": [
        "# ------------------------------\n",
        "# 6. Inferencia con nueva data\n",
        "# ------------------------------\n",
        "new_data = torch.rand(2, SEQ_LEN, INPUT_SIZE)  # batch de 2 oraciones\n",
        "with torch.no_grad():\n",
        "    predictions = model_loaded(new_data)\n",
        "\n",
        "print(\"Predicciones para nueva data:\", predictions)"
      ],
      "metadata": {
        "colab": {
          "base_uri": "https://localhost:8080/"
        },
        "id": "ye0UJNIukc1v",
        "outputId": "63179652-2d4a-4f16-cc71-bdd5dd5c8dad"
      },
      "execution_count": 6,
      "outputs": [
        {
          "output_type": "stream",
          "name": "stdout",
          "text": [
            "Predicciones para nueva data: tensor([[0.4805],\n",
            "        [0.5352]])\n"
          ]
        }
      ]
    }
  ]
}