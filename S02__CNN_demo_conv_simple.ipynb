{
  "nbformat": 4,
  "nbformat_minor": 0,
  "metadata": {
    "colab": {
      "provenance": [],
      "include_colab_link": true
    },
    "kernelspec": {
      "name": "python3",
      "display_name": "Python 3"
    },
    "language_info": {
      "name": "python"
    }
  },
  "cells": [
    {
      "cell_type": "markdown",
      "metadata": {
        "id": "view-in-github",
        "colab_type": "text"
      },
      "source": [
        "<a href=\"https://colab.research.google.com/github/jcmachicao/deep_learning_2025_curso/blob/main/S02__CNN_demo_conv_simple.ipynb\" target=\"_parent\"><img src=\"https://colab.research.google.com/assets/colab-badge.svg\" alt=\"Open In Colab\"/></a>"
      ]
    },
    {
      "cell_type": "markdown",
      "metadata": {
        "id": "8e81f181"
      },
      "source": [
        "# Task\n",
        "Generate a random 28x28 pixel 3-channel image using PyTorch, apply a 2D convolution to it using `torch.nn.functional.conv2d` with a defined kernel, explain the changes in dimensions due to the convolution, and visualize the original and resulting images to demonstrate the effect of the convolutional transformation."
      ]
    },
    {
      "cell_type": "markdown",
      "metadata": {
        "id": "81f7ac25"
      },
      "source": [
        "## Generar una imagen aleatoria\n",
        "\n",
        "### Subtask:\n",
        "Crear una figura simple con dimensiones similares a 28x28 píxeles y 3 canales de color utilizando PyTorch.\n"
      ]
    },
    {
      "cell_type": "markdown",
      "metadata": {
        "id": "52bfeeb6"
      },
      "source": [
        "**Reasoning**:\n",
        "Import the torch library and generate a random tensor representing an image with the specified dimensions.\n",
        "\n"
      ]
    },
    {
      "cell_type": "code",
      "metadata": {
        "id": "4f06c414"
      },
      "source": [
        "import torch\n",
        "\n",
        "random_image = torch.rand(1, 3, 28, 28)"
      ],
      "execution_count": null,
      "outputs": []
    },
    {
      "cell_type": "markdown",
      "metadata": {
        "id": "47375ff1"
      },
      "source": [
        "## Crear un kernel convolucional\n",
        "\n",
        "### Subtask:\n",
        "Definir un kernel (filtro) para la operación de convolución.\n"
      ]
    },
    {
      "cell_type": "markdown",
      "metadata": {
        "id": "8d212de5"
      },
      "source": [
        "**Reasoning**:\n",
        "Define a 2D tensor in PyTorch that will serve as the convolutional kernel with compatible dimensions for a 3-channel input and an output channel dimension. Initialize the kernel with random values and ensure it is a float tensor.\n",
        "\n"
      ]
    },
    {
      "cell_type": "code",
      "metadata": {
        "id": "09a62fa4"
      },
      "source": [
        "kernel = torch.randn(16, 3, 3, 3)\n",
        "kernel = kernel.float()"
      ],
      "execution_count": null,
      "outputs": []
    },
    {
      "cell_type": "markdown",
      "metadata": {
        "id": "bb48bc70"
      },
      "source": [
        "## Aplicar la convolución\n",
        "\n",
        "### Subtask:\n",
        "Usar `torch.nn.functional.conv2d` para aplicar la convolución a la imagen generada con el kernel definido.\n"
      ]
    },
    {
      "cell_type": "markdown",
      "metadata": {
        "id": "91c11a02"
      },
      "source": [
        "**Reasoning**:\n",
        "Import the necessary functional module and apply the convolution to the generated image using the defined kernel.\n",
        "\n"
      ]
    },
    {
      "cell_type": "code",
      "metadata": {
        "id": "7943b3a3"
      },
      "source": [
        "import torch.nn.functional as F\n",
        "\n",
        "convolved_image = F.conv2d(random_image, kernel)"
      ],
      "execution_count": null,
      "outputs": []
    },
    {
      "cell_type": "markdown",
      "metadata": {
        "id": "91ccb08c"
      },
      "source": [
        "## Explicar las dimensiones y cambios\n",
        "\n",
        "### Subtask:\n",
        "Describir cómo cambian las dimensiones de la imagen después de la operación convolucional y explicar el rol de los parámetros como padding y stride.\n"
      ]
    },
    {
      "cell_type": "markdown",
      "metadata": {
        "id": "ef3f9aff"
      },
      "source": [
        "**Reasoning**:\n",
        "Print the shapes of the original and convolved images to observe the dimensional changes and then explain how padding and stride affect these changes.\n",
        "\n"
      ]
    },
    {
      "cell_type": "markdown",
      "source": [
        "**Imagen Original**:\n",
        "\n",
        "`torch.Size([1, 3, 28, 28])`\n",
        "\n",
        "**Convolved image shape**:\n",
        "\n",
        "`torch.Size([1, 16, 26, 26])`\n",
        "<br>\n",
        "<br>\n",
        "**Explanation of dimensional changes:**<br>\n",
        "* The convolution operation changed the dimensions of the image.\n",
        "* The number of output channels is determined by the `number of filters` in the kernel (16 in this case).\n",
        "* Without padding and with a stride of 1 (default values), the spatial dimensions (height and width) are reduced.\n",
        "* The reduction in spatial dimensions is calculated as:\n",
        "* Output spatial dimension =\n",
        "\n",
        "`(Input spatial dimension - Kernel spatial dimension + 2 * padding) / stride + 1`\n",
        "\n",
        "* In this case, for height: (28 - 3 + 2 * 0) / 1 + 1 = 26\n",
        "* And for width: (28 - 3 + 2 * 0) / 1 + 1 = 26\n",
        "* Therefore, the output shape is (Batch size, Output channels, Output height, Output width) which is (1, 16, 26, 26).\n",
        "\n",
        "**Role of padding and stride:**<br>\n",
        "* Padding adds zeros around the input image, which helps to preserve the spatial dimensions of the output.\n",
        "* Stride determines the step size of the kernel as it slides over the image. A larger stride reduces the spatial dimensions of the output."
      ],
      "metadata": {
        "id": "q87QnwMNvGlC"
      }
    },
    {
      "cell_type": "markdown",
      "metadata": {
        "id": "e410eef6"
      },
      "source": [
        "## Mostrar resultados\n",
        "\n",
        "### Subtask:\n",
        "Visualizar la imagen original y la imagen resultante después de la convolución para ilustrar el efecto del kernel.\n"
      ]
    },
    {
      "cell_type": "markdown",
      "metadata": {
        "id": "fcaded1c"
      },
      "source": [
        "**Reasoning**:\n",
        "Import necessary libraries and define the transformation to convert tensors to PIL images.\n",
        "\n"
      ]
    },
    {
      "cell_type": "code",
      "metadata": {
        "id": "b07e164b"
      },
      "source": [
        "import matplotlib.pyplot as plt\n",
        "import torchvision.transforms as transforms\n",
        "\n",
        "to_pil_image = transforms.ToPILImage()"
      ],
      "execution_count": null,
      "outputs": []
    },
    {
      "cell_type": "markdown",
      "metadata": {
        "id": "5a8a2e9e"
      },
      "source": [
        "**Reasoning**:\n",
        "Select the first channel of both the original and convolved images, remove the batch dimension, convert them to PIL images, and then create subplots to display and compare the original and convolved images.\n",
        "\n"
      ]
    },
    {
      "cell_type": "code",
      "metadata": {
        "colab": {
          "base_uri": "https://localhost:8080/",
          "height": 411
        },
        "id": "4c058ad8",
        "outputId": "1c18d79c-fb03-48a9-f607-232265fbfa06"
      },
      "source": [
        "original_image_pil = to_pil_image(random_image.squeeze(0)[0])\n",
        "convolved_image_pil = to_pil_image(convolved_image.squeeze(0)[0])\n",
        "\n",
        "fig, ax = plt.subplots(1, 2, figsize=(10, 5))\n",
        "\n",
        "ax[0].imshow(original_image_pil, cmap='gray')\n",
        "ax[0].set_title(\"Original Image (First Channel)\")\n",
        "ax[0].axis('off')\n",
        "\n",
        "ax[1].imshow(convolved_image_pil, cmap='gray')\n",
        "ax[1].set_title(\"Convolved Image (First Output Channel)\")\n",
        "ax[1].axis('off')\n",
        "\n",
        "plt.show()"
      ],
      "execution_count": null,
      "outputs": [
        {
          "output_type": "display_data",
          "data": {
            "text/plain": [
              "<Figure size 1000x500 with 2 Axes>"
            ],
            "image/png": "[encoded data removed]"
          },
          "metadata": {}
        }
      ]
    },
    {
      "cell_type": "markdown",
      "metadata": {
        "id": "476625e5"
      },
      "source": [
        "## Summary:\n",
        "\n",
        "### Data Analysis Key Findings\n",
        "\n",
        "*   The original random image had a shape of (1, 3, 28, 28), representing a single image with 3 color channels and dimensions of 28x28 pixels.\n",
        "*   A convolutional kernel was defined with a shape of (16, 3, 3, 3), indicating 16 output filters, 3 input channels, and a 3x3 spatial size.\n",
        "*   After applying the 2D convolution with default padding (0) and stride (1), the convolved image had a shape of (1, 16, 26, 26).\n",
        "*   The number of output channels in the convolved image (16) is equal to the number of filters in the kernel.\n",
        "*   The spatial dimensions (height and width) of the convolved image (26x26) were reduced compared to the original image (28x28) due to the 3x3 kernel size and lack of padding, following the formula: Output spatial dimension = (Input spatial dimension - Kernel spatial dimension + 2 \\* padding) / stride + 1.\n",
        "*   Padding adds zeros to preserve spatial dimensions, while stride affects the step size of the kernel and can reduce spatial dimensions.\n",
        "*   Visualizing the first channel of the original image and the first output channel of the convolved image demonstrates the transformation applied by the convolution.\n",
        "\n",
        "### Insights or Next Steps\n",
        "\n",
        "*   Experiment with different kernel sizes, padding values, and strides to observe their effect on the output dimensions and the visual transformation of the image.\n",
        "*   Explore applying multiple convolutional layers and pooling operations to build a simple convolutional neural network (CNN) for image feature extraction.\n"
      ]
    },
    {
      "cell_type": "code",
      "source": [
        "from PIL import Image\n",
        "import torchvision.transforms as transforms\n",
        "\n",
        "# Define the path to your image file\n",
        "image_path = '/content/cat_sample.jpg' # Replace with the actual path to your image\n",
        "\n",
        "# Open the image using Pillow\n",
        "try:\n",
        "    img = Image.open(image_path)\n",
        "except FileNotFoundError:\n",
        "    print(f\"Error: Image file not found at {image_path}\")\n",
        "    # You might want to handle this error more robustly, e.g., exit or use a default image\n",
        "    exit()\n",
        "\n",
        "\n",
        "# Define transformations\n",
        "transform = transforms.Compose([\n",
        "    transforms.Resize((28, 28)), # Resize to 28x28\n",
        "    transforms.ToTensor(),       # Convert PIL image to PyTorch tensor\n",
        "    # Ensure the image has 3 channels (handle grayscale or alpha channels)\n",
        "    transforms.Lambda(lambda x: x.repeat(3, 1, 1) if x.size(0) == 1 else x),\n",
        "    transforms.Lambda(lambda x: x[:3, :, :]) # Keep only the first 3 channels if more exist\n",
        "])\n",
        "\n",
        "# Apply transformations\n",
        "processed_image = transform(img)\n",
        "\n",
        "# Add a batch dimension (required for conv2d)\n",
        "processed_image = processed_image.unsqueeze(0)\n",
        "\n",
        "print(\"Original image format:\", img.format)\n",
        "print(\"Original image size:\", img.size)\n",
        "print(\"Processed image shape:\", processed_image.shape)\n",
        "\n",
        "# Now you can use 'processed_image' with your kernel\n",
        "convolved_external_image = F.conv2d(processed_image, kernel)\n",
        "print(\"Convolved external image shape:\", convolved_external_image.shape)"
      ],
      "metadata": {
        "colab": {
          "base_uri": "https://localhost:8080/"
        },
        "id": "hcjdKEKLLmZV",
        "outputId": "5828ff68-ddf0-4796-c924-2c246236cd1e"
      },
      "execution_count": null,
      "outputs": [
        {
          "output_type": "stream",
          "name": "stdout",
          "text": [
            "Original image format: JPEG\n",
            "Original image size: (302, 223)\n",
            "Processed image shape: torch.Size([1, 3, 28, 28])\n",
            "Convolved external image shape: torch.Size([1, 16, 26, 26])\n"
          ]
        }
      ]
    },
    {
      "cell_type": "code",
      "source": [
        "# If you want to display the 3-channel image:\n",
        "processed_image_display = processed_image.squeeze(0) # Remove batch dimension\n",
        "\n",
        "# If you want to display a single channel (e.g., the first one) as a grayscale image:\n",
        "# processed_image_display = processed_image.squeeze(0)[0] # Remove batch and select first channel\n",
        "\n",
        "# Convert the tensor to a PIL image\n",
        "to_pil_image = transforms.ToPILImage()\n",
        "processed_image_pil = to_pil_image(processed_image_display)\n",
        "\n",
        "# Display the image\n",
        "plt.imshow(processed_image_pil)\n",
        "plt.title(\"Processed Image (28x28)\")\n",
        "plt.axis('off') # Hide axes\n",
        "plt.show()"
      ],
      "metadata": {
        "colab": {
          "base_uri": "https://localhost:8080/",
          "height": 428
        },
        "id": "QdzafyZuNW7G",
        "outputId": "cca28461-09b2-4ebb-fa75-282288ff52dc"
      },
      "execution_count": null,
      "outputs": [
        {
          "output_type": "display_data",
          "data": {
            "text/plain": [
              "<Figure size 640x480 with 1 Axes>"
            ],
            "image/png": "[encoded data removed]"
          },
          "metadata": {}
        }
      ]
    }
  ]
}