{
  "nbformat": 4,
  "nbformat_minor": 0,
  "metadata": {
    "colab": {
      "provenance": [],
      "authorship_tag": "ABX9TyMZ1Vg+NsZQagkHQ5jH432B",
      "include_colab_link": true
    },
    "kernelspec": {
      "name": "python3",
      "display_name": "Python 3"
    },
    "language_info": {
      "name": "python"
    }
  },
  "cells": [
    {
      "cell_type": "markdown",
      "metadata": {
        "id": "view-in-github",
        "colab_type": "text"
      },
      "source": [
        "<a href=\"https://colab.research.google.com/github/jcmachicao/deep_learning_2025_curso/blob/main/Tema06__Dropout_PyTorch.ipynb\" target=\"_parent\"><img src=\"https://colab.research.google.com/assets/colab-badge.svg\" alt=\"Open In Colab\"/></a>"
      ]
    },
    {
      "cell_type": "code",
      "source": [
        "import torch\n",
        "import torch.nn as nn\n",
        "import torch.optim as optim"
      ],
      "metadata": {
        "id": "eqo1J6n9haot"
      },
      "execution_count": null,
      "outputs": []
    },
    {
      "cell_type": "code",
      "source": [
        "# Definimos una red simple con Dropout\n",
        "class SimpleNet(nn.Module):\n",
        "    def __init__(self):\n",
        "        super(SimpleNet, self).__init__()\n",
        "        self.fc1 = nn.Linear(10, 50)       # Capa totalmente conectada\n",
        "        self.dropout = nn.Dropout(p=0.5)   # 50% de probabilidad de \"apagar\" neuronas\n",
        "        self.fc2 = nn.Linear(50, 1)        # Capa de salida\n",
        "\n",
        "    def forward(self, x):\n",
        "        x = torch.relu(self.fc1(x))   # activación ReLU\n",
        "        x = self.dropout(x)           # aplicamos dropout SOLO en entrenamiento\n",
        "        x = self.fc2(x)\n",
        "        return x"
      ],
      "metadata": {
        "id": "6G4hd7cEhdCp"
      },
      "execution_count": null,
      "outputs": []
    },
    {
      "cell_type": "code",
      "execution_count": null,
      "metadata": {
        "id": "OfDab2cwhL_1"
      },
      "outputs": [],
      "source": [
        "# Creamos un modelo y un optimizador\n",
        "model = SimpleNet()\n",
        "criterion = nn.MSELoss()\n",
        "optimizer = optim.Adam(model.parameters(), lr=0.01)\n",
        "\n",
        "# Datos ficticios\n",
        "X = torch.randn(100, 10)   # 100 ejemplos, 10 features\n",
        "y = torch.randn(100, 1)    # 100 valores objetivo"
      ]
    },
    {
      "cell_type": "code",
      "source": [
        "# Entrenamiento simple\n",
        "for epoch in range(5):\n",
        "    model.train()  # importante: activa el dropout\n",
        "    optimizer.zero_grad()\n",
        "    outputs = model(X)\n",
        "    loss = criterion(outputs, y)\n",
        "    loss.backward()\n",
        "    optimizer.step()\n",
        "    print(f\"Epoch {epoch+1}, Loss: {loss.item():.4f}\")"
      ],
      "metadata": {
        "id": "RaBRxRhghiL3"
      },
      "execution_count": null,
      "outputs": []
    },
    {
      "cell_type": "code",
      "source": [
        "# Evaluación (Dropout desactivado)\n",
        "model.eval()  # importante: desactiva dropout\n",
        "with torch.no_grad():\n",
        "    preds = model(X[:5])\n",
        "    print(\"Predicciones ejemplo:\\n\", preds)"
      ],
      "metadata": {
        "id": "T7Dw2wk-hkpg"
      },
      "execution_count": null,
      "outputs": []
    }
  ]
}